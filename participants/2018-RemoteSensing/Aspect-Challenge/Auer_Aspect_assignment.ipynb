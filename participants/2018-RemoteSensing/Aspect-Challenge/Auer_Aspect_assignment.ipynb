{
 "cells": [
  {
   "cell_type": "markdown",
   "metadata": {},
   "source": [
    "Create a raster where aspect is classified into North and South facing slopes"
   ]
  },
  {
   "cell_type": "code",
   "execution_count": 1,
   "metadata": {},
   "outputs": [],
   "source": [
    "import gdal"
   ]
  },
  {
   "cell_type": "code",
   "execution_count": 2,
   "metadata": {},
   "outputs": [],
   "source": [
    "import copy\n",
    "import numpy as np\n",
    "import matplotlib.pyplot as plt\n",
    "%matplotlib inline"
   ]
  },
  {
   "cell_type": "code",
   "execution_count": 3,
   "metadata": {},
   "outputs": [],
   "source": [
    "aspect_file_path = r\"/Users/AuerPower/Documents/RSDI-2018/data/Day2_LiDAR_Intro/NEON_D17_TEAK_DP3_316000_4106000_aspect.tif\""
   ]
  },
  {
   "cell_type": "code",
   "execution_count": 4,
   "metadata": {},
   "outputs": [],
   "source": [
    "aspect_file = gdal.Open(aspect_file_path)"
   ]
  },
  {
   "cell_type": "code",
   "execution_count": 5,
   "metadata": {},
   "outputs": [],
   "source": [
    "# %load /Users/AuerPower/Documents/RSDI-2018/neon_aop_lidar_python_functions/raster2array\n",
    "def raster2array(geotif_file):\n",
    "    metadata = {}\n",
    "    dataset = gdal.Open(geotif_file)\n",
    "    metadata['array_rows'] = dataset.RasterYSize\n",
    "    metadata['array_cols'] = dataset.RasterXSize\n",
    "    metadata['bands'] = dataset.RasterCount\n",
    "    metadata['driver'] = dataset.GetDriver().LongName\n",
    "    metadata['projection'] = dataset.GetProjection()\n",
    "    metadata['geotransform'] = dataset.GetGeoTransform()\n",
    "    \n",
    "    mapinfo = dataset.GetGeoTransform()\n",
    "    metadata['pixelWidth'] = mapinfo[1]\n",
    "    metadata['pixelHeight'] = mapinfo[5]\n",
    "\n",
    "    xMin = mapinfo[0]\n",
    "    xMax = mapinfo[0] + dataset.RasterXSize/mapinfo[1]\n",
    "    yMin = mapinfo[3] + dataset.RasterYSize/mapinfo[5]\n",
    "    yMax = mapinfo[3]\n",
    "    \n",
    "    metadata['extent'] = (xMin,xMax,yMin,yMax)\n",
    "    \n",
    "    raster = dataset.GetRasterBand(1)\n",
    "    array_shape = raster.ReadAsArray(0,0,metadata['array_cols'],metadata['array_rows']).astype(np.float).shape\n",
    "    metadata['noDataValue'] = raster.GetNoDataValue()\n",
    "    metadata['scaleFactor'] = raster.GetScale()\n",
    "    \n",
    "    array = np.zeros((array_shape[0],array_shape[1],dataset.RasterCount),'uint8') #pre-allocate stackedArray matrix\n",
    "    \n",
    "    if metadata['bands'] == 1:\n",
    "        raster = dataset.GetRasterBand(1)\n",
    "        metadata['noDataValue'] = raster.GetNoDataValue()\n",
    "        metadata['scaleFactor'] = raster.GetScale()\n",
    "              \n",
    "        array = dataset.GetRasterBand(1).ReadAsArray(0,0,metadata['array_cols'],metadata['array_rows']).astype(np.float)\n",
    "        array[np.where(array==metadata['noDataValue'])]=np.nan\n",
    "        array = array/metadata['scaleFactor']\n",
    "    \n",
    "    elif metadata['bands'] > 1:    \n",
    "        for i in range(1, dataset.RasterCount+1):\n",
    "            band = float(dataset.GetRasterBand(i).ReadAsArray(0,0,metadata['array_cols'],metadata['array_rows']))\n",
    "            band[np.where(band==metadata['noDataValue'])]=np.nan\n",
    "            band = band/metadata['scaleFactor']\n",
    "            array[...,i-1] = band\n",
    "\n",
    "    return array, metadata"
   ]
  },
  {
   "cell_type": "code",
   "execution_count": 6,
   "metadata": {},
   "outputs": [
    {
     "data": {
      "text/plain": [
       "array([[312.73199463, 309.72000122, 303.12200928, ..., 315.86898804,\n",
       "        316.02200317, 315.37600708],\n",
       "       [309.51599121, 304.07299805, 297.54699707, ..., 321.86401367,\n",
       "        320.83599854, 319.21099854],\n",
       "       [312.26199341, 304.61801147, 296.69900513, ..., 318.24499512,\n",
       "        317.53900146, 318.33499146],\n",
       "       ...,\n",
       "       [153.54600525, 157.52999878, 160.07400513, ..., 160.72399902,\n",
       "        147.32299805, 131.44400024],\n",
       "       [152.43099976, 156.16099548, 157.72900391, ..., 161.2769928 ,\n",
       "        149.21200562, 120.34300232],\n",
       "       [152.14599609, 154.82299805, 155.26800537, ..., 169.02799988,\n",
       "        165.85299683, 124.86000061]])"
      ]
     },
     "execution_count": 6,
     "metadata": {},
     "output_type": "execute_result"
    }
   ],
   "source": [
    "[aspect_array, aspect_metadata] = raster2array(aspect_file_path)\n",
    "aspect_array"
   ]
  },
  {
   "cell_type": "code",
   "execution_count": 7,
   "metadata": {},
   "outputs": [
    {
     "data": {
      "text/plain": [
       "array([[312.73199463, 309.72000122, 303.12200928, ..., 315.86898804,\n",
       "        316.02200317, 315.37600708],\n",
       "       [309.51599121, 304.07299805, 297.54699707, ..., 321.86401367,\n",
       "        320.83599854, 319.21099854],\n",
       "       [312.26199341, 304.61801147, 296.69900513, ..., 318.24499512,\n",
       "        317.53900146, 318.33499146],\n",
       "       ...,\n",
       "       [153.54600525, 157.52999878, 160.07400513, ..., 160.72399902,\n",
       "        147.32299805, 131.44400024],\n",
       "       [152.43099976, 156.16099548, 157.72900391, ..., 161.2769928 ,\n",
       "        149.21200562, 120.34300232],\n",
       "       [152.14599609, 154.82299805, 155.26800537, ..., 169.02799988,\n",
       "        165.85299683, 124.86000061]])"
      ]
     },
     "execution_count": 7,
     "metadata": {},
     "output_type": "execute_result"
    }
   ],
   "source": [
    "dir_class = aspect_array.copy()\n",
    "dir_class"
   ]
  },
  {
   "cell_type": "code",
   "execution_count": 8,
   "metadata": {},
   "outputs": [],
   "source": [
    "dir_class[np.where((aspect_array>0) & (aspect_array<45))] = 1 # north\n",
    "dir_class[np.where((aspect_array>315) & (aspect_array<360))] = 1 # north\n",
    "dir_class[np.where((aspect_array>135) & (aspect_array<225))] = 2 # south"
   ]
  },
  {
   "cell_type": "code",
   "execution_count": 11,
   "metadata": {},
   "outputs": [
    {
     "name": "stderr",
     "output_type": "stream",
     "text": [
      "/Users/AuerPower/anaconda3/envs/p35/lib/python3.5/site-packages/matplotlib/patches.py:83: UserWarning: Setting the 'color' property will overridethe edgecolor or facecolor properties. \n",
      "  warnings.warn(\"Setting the 'color' property will override\"\n"
     ]
    },
    {
     "data": {
      "text/plain": [
       "<matplotlib.legend.Legend at 0x1258a4e48>"
      ]
     },
     "execution_count": 11,
     "metadata": {},
     "output_type": "execute_result"
    },
    {
     "data": {
      "image/png": "[encoded data removed]",
      "text/plain": [
       "<Figure size 432x288 with 1 Axes>"
      ]
     },
     "metadata": {},
     "output_type": "display_data"
    }
   ],
   "source": [
    "# Plot classified aspect (N-S) array\n",
    "from matplotlib import colors\n",
    "fig, ax = plt.subplots()\n",
    "cmapNS = colors.ListedColormap(['white','blue','red'])\n",
    "plt.imshow(dir_class,extent=aspect_metadata['extent'],cmap=cmapNS)\n",
    "plt.title('TEAK North & South Facing Slopes')\n",
    "ax=plt.gca(); ax.ticklabel_format(useOffset=False, style='plain') #do not use scientific notation \n",
    "rotatexlabels = plt.setp(ax.get_xticklabels(),rotation=90) #rotate x tick labels 90 degrees\n",
    "\n",
    "# Create custom legend to label N & S\n",
    "import matplotlib.patches as mpatches\n",
    "white_box = mpatches.Patch(color='white',edgecolor='red',label='East, West, or NaN')\n",
    "blue_box = mpatches.Patch(color='blue', label='North')\n",
    "red_box = mpatches.Patch(color='red', label='South')\n",
    "ax.legend(handles=[white_box,blue_box,red_box],handlelength=0.7,bbox_to_anchor=(1.05, 0.45), \n",
    "          loc='lower left', borderaxespad=0.)"
   ]
  },
  {
   "cell_type": "code",
   "execution_count": null,
   "metadata": {},
   "outputs": [],
   "source": []
  }
 ],
 "metadata": {
  "kernelspec": {
   "display_name": "python 3.5 NEON-RSDI",
   "language": "python",
   "name": "p35"
  },
  "language_info": {
   "codemirror_mode": {
    "name": "ipython",
    "version": 3
   },
   "file_extension": ".py",
   "mimetype": "text/x-python",
   "name": "python",
   "nbconvert_exporter": "python",
   "pygments_lexer": "ipython3",
   "version": "3.5.5"
  }
 },
 "nbformat": 4,
 "nbformat_minor": 2
}
